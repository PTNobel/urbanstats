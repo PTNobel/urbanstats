{
 "cells": [
  {
   "cell_type": "code",
   "execution_count": 1,
   "id": "a00658f0",
   "metadata": {},
   "outputs": [],
   "source": [
    "import os; os.chdir(\"..\")"
   ]
  },
  {
   "cell_type": "code",
   "execution_count": 2,
   "id": "cfa5b130",
   "metadata": {},
   "outputs": [],
   "source": [
    "%load_ext autoreload\n",
    "%autoreload 2\n",
    "%matplotlib inline"
   ]
  },
  {
   "cell_type": "code",
   "execution_count": 3,
   "id": "b2d6c4cb",
   "metadata": {},
   "outputs": [],
   "source": [
    "import numpy as np\n",
    "import matplotlib.pyplot as plt\n",
    "from urbanstats.games.quiz_analysis import get_full_statistics, questions"
   ]
  },
  {
   "cell_type": "code",
   "execution_count": null,
   "id": "60885939",
   "metadata": {},
   "outputs": [
    {
     "name": "stderr",
     "output_type": "stream",
     "text": [
      "/home/kavi/anaconda3/lib/python3.7/site-packages/pandas/core/groupby/groupby.py:1309: FutureWarning: Dropping of nuisance columns in DataFrame reductions (with 'numeric_only=None') is deprecated; in a future version this will raise TypeError.  Select only valid columns before calling the reduction.\n",
      "  keys, values, mutated = self.grouper.apply(f, data, self.axis)\n"
     ]
    }
   ],
   "source": [
    "result = get_full_statistics(after_problem=41, debug=False)\n",
    "num_users_by_problem = result.groupby(\"problem\").count().user_id\n",
    "means = result[[\"problem\", \"score\", *questions]].groupby(\"problem\").mean()"
   ]
  },
  {
   "cell_type": "code",
   "execution_count": null,
   "id": "dfb6b422",
   "metadata": {},
   "outputs": [],
   "source": [
    "plt.figure(dpi=200, facecolor=\"white\")\n",
    "for time in range(49, 1 + result.problem.max()):\n",
    "    offs = result[(result.problem == time) & (result.last_in_batch == 1)].offset\n",
    "    bin_sides = offs // 0.5 * 0.5\n",
    "    bins = np.arange(bin_sides.min(), bin_sides.max() + 1, 0.5)\n",
    "    plt.hist(offs, bins=bins, alpha=0.5, label=f\"J{time}; total={offs.shape[0]}\")\n",
    "plt.xticks(rotation=90)\n",
    "plt.xlabel(\"Hours after EDT release\")\n",
    "plt.ylabel(\"Frequency\")\n",
    "lo, hi = plt.xlim()\n",
    "lo = lo // 4 * 4\n",
    "hi = hi // 4 * 4 + 4\n",
    "plt.xticks(np.arange(lo, hi + 4, 4))\n",
    "plt.axvline(1.5, color=\"red\", lw=0.5, label=\"Graph Crimes Post\")\n",
    "# for h in 0, 1, 2, 3, 24, 25, 26, 27:\n",
    "#     plt.axvline(h, color=\"black\", lw=0.5)\n",
    "plt.legend()\n",
    "plt.show()"
   ]
  },
  {
   "cell_type": "code",
   "execution_count": null,
   "id": "03c00db0",
   "metadata": {},
   "outputs": [],
   "source": [
    "plt.figure(dpi=200)\n",
    "plt.title(\"Juxtastat Usage\")\n",
    "plt.scatter(num_users_by_problem.index, num_users_by_problem)\n",
    "plt.xlabel(\"Problem\")\n",
    "plt.ylabel(\"Amount\")\n",
    "plt.ylim(0, plt.ylim()[1])\n",
    "plt.grid()"
   ]
  },
  {
   "cell_type": "code",
   "execution_count": null,
   "id": "bb005a72",
   "metadata": {},
   "outputs": [],
   "source": [
    "plt.figure(dpi=200)\n",
    "plt.title(\"Juxtastat Mean Scores\")\n",
    "plt.scatter(means.index, means.score)\n",
    "plt.ylim(0, 5)\n",
    "plt.xlabel(\"Problem\")\n",
    "plt.ylabel(\"Score\")\n",
    "plt.grid()"
   ]
  },
  {
   "cell_type": "code",
   "execution_count": null,
   "id": "0677a4aa",
   "metadata": {},
   "outputs": [],
   "source": [
    "plt.figure(dpi=200)\n",
    "for q in questions:\n",
    "    plt.plot(means.index, 100 * means[q], label=q, marker=\".\", alpha=0.5)\n",
    "plt.ylim(0, 100)\n",
    "plt.xlabel(\"Problem\")\n",
    "plt.ylabel(\"% getting it correct\")\n",
    "plt.legend(bbox_to_anchor=(1.1, 1.05))\n",
    "plt.grid()"
   ]
  }
 ],
 "metadata": {
  "kernelspec": {
   "display_name": "Python 3",
   "language": "python",
   "name": "python3"
  },
  "language_info": {
   "codemirror_mode": {
    "name": "ipython",
    "version": 3
   },
   "file_extension": ".py",
   "mimetype": "text/x-python",
   "name": "python",
   "nbconvert_exporter": "python",
   "pygments_lexer": "ipython3",
   "version": "3.7.10"
  }
 },
 "nbformat": 4,
 "nbformat_minor": 5
}
